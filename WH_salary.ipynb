{
 "cells": [
  {
   "cell_type": "markdown",
   "metadata": {},
   "source": [
    "# Despite more young women, young men hold slight promotion advantage at the White House."
   ]
  },
  {
   "cell_type": "markdown",
   "metadata": {},
   "source": [
    "## Summary"
   ]
  },
  {
   "cell_type": "markdown",
   "metadata": {},
   "source": [
    "<ul>\n",
    "<li>Averages can be misleading.  In 2015, the average female salary at the White House was skewed downward by the overrepresentation of female junior staffers.</li>\n",
    "<li>Junior positions are incresingly female.  The male:female ratio of junior employees has trended towards a <b>40:60</b> ratio in 2015 from a 50:50 ratio in 2010.</li>\n",
    "<li>Men that start in junior positions hold a slight advantage over their female counterparts in # of years served, max salary achieved, and promotion rates</li>\n",
    "</ul>\n"
   ]
  },
  {
   "cell_type": "markdown",
   "metadata": {},
   "source": [
    "## Introduction"
   ]
  },
  {
   "cell_type": "markdown",
   "metadata": {},
   "source": [
    "<img src=\"figs/pmarca_tweet.png\" style=\"max-height: 400; max-width: 600px;\">"
   ]
  },
  {
   "cell_type": "markdown",
   "metadata": {},
   "source": [
    "<a name=\"citations\"></a>\n",
    "Not too long ago, while reading the tweet storm that is Marc Andreesen, I saw this tweet and was curious. 15.8% seemed like a really high number.\n",
    "\n",
    "It has been picked up by media outlets, think tanks, and even aspiring presidents.\n",
    "\n",
    "<ul>\n",
    "<li> <a href=\"http://www.washingtonpost.com/politics/male-female-pay-gap-remains-entrenched-at-white-house/2014/07/01/dbc6c088-0155-11e4-8fd0-3a663dfa68ac_story.html\">The Washington Post</a> </li>\n",
    "<li> <a href=\"http://www.politifact.com/punditfact/statements/2015/jan/22/carly-fiorina/fiorina-obamafails-meet-his-own-measures-equal-pay/\"> Carly Fiorina</a> </li>\n",
    "<li> <a href=\"http://www.huffingtonpost.com/2014/07/08/white-house-gender-pay-gap_n_5568057.html\"> The Huffington Post </a> </li>\n",
    "<li> <a href=\"https://www.aei.org/publication/explaining-the-white-house-and-overall-gender-pay-gap-neither-are-primarily-the-result-of-gender-discrimination/\"> The American Enterprise Institute part I</a> <a href=\"https://www.aei.org/publication/glass-ceiling-at-the-white-house-female-staffers-earn-12350-and-15-8-less-than-their-male-counterparts/\"> part II</a></li>\n",
    "<li> <a href=\"http://time.com/2950240/gender-pay-equity-barack-obama/\"> Time Magazine </a></li>\n",
    "<li> <a href=\"http://www.nytimes.com/2014/04/08/us/politics/as-obama-spotlights-gender-gap-in-wages-his-own-payroll-draws-scrutiny.html?_r=0\"> The New York Times </a> </li>\n",
    "<li> <a href=\"http://www.cbsnews.com/news/white-house-pay-gap-between-men-and-women-persists/\"> CBS News </a></li>\n",
    "\n",
    "</ul>\n",
    "\n",
    "Is there gender bias at the White House?"
   ]
  },
  {
   "cell_type": "markdown",
   "metadata": {},
   "source": [
    "<b>Data</b>\n",
    "\n",
    "<ul>\n",
    "  <li>White House 2009-2015 salary data available <a href='https://www.whitehouse.gov/21stcenturygov/tools/salaries'>\n",
    "here</a>.</li>\n",
    "  <li>A <a href=\"https://raw.githubusercontent.com/Bemmu/gender-from-name/master/gender.py\"> list </a>\n",
    "  of male and female names.</li>\n",
    "  \n",
    "  <li>Publicly scraped data to arrive at age estimates for White House employees in 2015.</li>\n",
    "</ul>  \n",
    "\n",
    "\n",
    "<b>Data Processing</b>\n",
    "<ul>\n",
    "<li> Manually looked up ambiguous names for 2015 dataset.  Dropped unknown names. </li>\n",
    "<li> Dropped all individuals that were working part-time or for free </li>\n",
    "<li> Python (data processing) and R (visualization) </li>\n",
    "</ul>\n",
    "\n",
    "\n"
   ]
  },
  {
   "cell_type": "markdown",
   "metadata": {},
   "source": [
    "### Equal pay for equal work?"
   ]
  },
  {
   "cell_type": "markdown",
   "metadata": {},
   "source": [
    "It's hard to tell.  We have position title data, and ideally, position title would be reflective of work. Unfortunately, we find that position titles can have wide salary ranges. This suggests that titles have little bearing on actual work.  Therefore, determining equal pay for equal work is difficult given the available data."
   ]
  },
  {
   "cell_type": "markdown",
   "metadata": {},
   "source": [
    "### Salary distributions in the 2015 White House"
   ]
  },
  {
   "cell_type": "markdown",
   "metadata": {},
   "source": [
    "Let's examine how salaries are distributed at the White House in 2015.  Overall, there is a 58:42 Female:Male ratio.\n",
    "<img src='figs/wh2015_salary_hist.png' style=\"max-height: 400; max-width: 600px;\">\n"
   ]
  },
  {
   "cell_type": "markdown",
   "metadata": {},
   "source": [
    "We can see that salaries are not evenly distributed by gender throughout the organization.  It's lumpy.  Men outnumber women at the high end while women outnumber men everywhere else.  One consequence is skewed averages which has been widely observed by publications <a href=\"#citations\">cited previously</a>.   "
   ]
  },
  {
   "cell_type": "markdown",
   "metadata": {},
   "source": [
    "To visualize the skewing of averages, let's arbitrarily segment the population into low (<\\$80k), medium (\\$140-60k), and high earners (\\$140k+) as denoted by the gray lines above.  What happens to the gender pay gap?"
   ]
  },
  {
   "cell_type": "markdown",
   "metadata": {},
   "source": [
    "<img src='figs/gender_gap.png' style=\"max-height: 400; max-width: 600px;\">"
   ]
  },
  {
   "cell_type": "markdown",
   "metadata": {},
   "source": [
    "If we compare the average salary of men and women across the <b>entire</b> White House, we find there is a 11% salary gap.  So, although lower, this number remains in the same ballpark as the widely cited figure of 15.8%.\n",
    "\n",
    "However, when we look at the gender pay gap <b>within</b> salary ranges, we find that the 11% salary gap largely disappears because <b>within</b> each segment, women and men are more evenly distributed than when compared to the entire population.\n",
    "\n",
    "Therefore, <b>average salary numbers fail to tell the entire story</b>.\n",
    "\n",
    "But why are there so many women at the bottom?"
   ]
  },
  {
   "cell_type": "markdown",
   "metadata": {},
   "source": [
    "##  Why are there so many women at the bottom?"
   ]
  },
  {
   "cell_type": "markdown",
   "metadata": {},
   "source": [
    "From the <a href=\"https://www.whitehouse.gov/the-press-office/2014/04/08/daily-press-briefing-press-secretary-jay-carney-4814\" >White House</a>,\n",
    "\n",
    "<blockquote>\n",
    "MR. CARNEY:  And we are hard at work here at the White House in the most transparent of ways to ensure that women compete for and earn senior positions, that women are recruited for more junior positions so they’re put in the pipeline for senior positions in the future. </blockquote>\n",
    "\n",
    "It might be a pipeline.  By introducing more women at junior positions, the hope is that some of them will enter senior positions in the future.  Therefore, because uneven gender distributions could either be a well intended effort to even out gender imbalances or indicative of bias, <b>averages and gender imbalances can be misleading</b>.\n",
    "\n",
    "More instructive would be a longitudinal examination to see if the pipeline claim is true.  By looking at the careers of those who start off in junior positions, we may be able to observe gender differences in outcomes that aren't readily apparent in a single year's data.  In particular, examining the outcomes of junior employees is ideal since junior positions start similarily and have a larger room for salary growth.\n",
    "\n",
    "For the pipeline claim to be true, we would need to observe\n",
    "<ol type=1>\n",
    "<li> That individuals recruited for junior positions are younger </li>\n",
    "<li> Evidence of junior employees being promoted over time </li>\n",
    "</ol>\n",
    "\n",
    "Is this the case?"
   ]
  },
  {
   "cell_type": "markdown",
   "metadata": {},
   "source": [
    "### Is there a correlation between salary and age?"
   ]
  },
  {
   "cell_type": "markdown",
   "metadata": {},
   "source": [
    "I wrote software to scrape public data to estimate the ages of the 2015 White House employees.  To derive meaningful conclusions, let's assume that the gathered data (~50% of employees) is reflective of all employees."
   ]
  },
  {
   "cell_type": "markdown",
   "metadata": {
    "collapsed": true
   },
   "source": [
    "<img src=\"figs/salary_age_scat.png\" style=\"max-height: 400; max-width: 600px;\">"
   ]
  },
  {
   "cell_type": "markdown",
   "metadata": {},
   "source": [
    "We observe a strong correlation between age and salary which fits the narrative of a pipeline.  Younger employees start with low salaries that increase over time as they get promoted.\n",
    "\n",
    "For further analysis, let us define a junior level employee to be someone with a salary less than $60k (<font color='red'>red line</font>), as the majority of new employees enter the White House below this cutoff, and below the cutoff, the average age is a young 26."
   ]
  },
  {
   "cell_type": "markdown",
   "metadata": {},
   "source": [
    "### Are junior level employees promoted over time?"
   ]
  },
  {
   "cell_type": "markdown",
   "metadata": {},
   "source": [
    "In the following sets of analyses, let us track the 6 year outcomes of two cohorts of junior level (<$60k) employees who started either in 2009 or 2010.  The combined cohorts have a 53:47 Female:Male ratio.  What is the highest salary that individuals achieve within 6 years? "
   ]
  },
  {
   "cell_type": "markdown",
   "metadata": {},
   "source": [
    "<img src='figs/jremp_outcomes_hist.png' style=\"max-height: 400; max-width: 600px;\">"
   ]
  },
  {
   "cell_type": "markdown",
   "metadata": {},
   "source": [
    "We find that 27% of junior employees do make it beyond the $60k barrier within 6 years.  So it is a pipeline.  In addition, we notice that men are slightly more likely to achieve higher salaries.\n",
    "\n",
    "Next, let's look at how men and women perform in the pipeline over the course of 6 years."
   ]
  },
  {
   "cell_type": "markdown",
   "metadata": {},
   "source": [
    "<img src='figs/promotion_rate_hist.png' style=\"max-height: 400; max-width: 600px;\">"
   ]
  },
  {
   "cell_type": "markdown",
   "metadata": {},
   "source": [
    "Again, we find that the tail end of men receive proportionally higher yearly salary bumps. Because salary increases might be tied with the amount of years served at an organization, the next logical question is if there are gender differences in the number years served by the '09-'10 cohorts."
   ]
  },
  {
   "cell_type": "markdown",
   "metadata": {},
   "source": [
    "<img src='figs/years_served_hist.png' style=\"max-height: 400; max-width: 600px;\">"
   ]
  },
  {
   "cell_type": "markdown",
   "metadata": {},
   "source": [
    "We find that a disproportionate amount of junior level women drop out after serving one year.  In addition, we notice that the tail end of men serve a greater amount of years in the White House when compared to their female peers.  This is unfortunate since additional years served is correlated with a higher max salary as shown below."
   ]
  },
  {
   "cell_type": "markdown",
   "metadata": {},
   "source": [
    "<img src='figs/salary_served_scat.png' style=\"max-height: 400; max-width: 600px;\">"
   ]
  },
  {
   "cell_type": "markdown",
   "metadata": {},
   "source": [
    "### How has the pipeline changed over time?"
   ]
  },
  {
   "cell_type": "markdown",
   "metadata": {},
   "source": [
    "Given that these were examining the '09-'10 cohorts, gender dynamics may have changed since then.  Let us look at how the gender composition of the junior positions has changed over time."
   ]
  },
  {
   "cell_type": "markdown",
   "metadata": {},
   "source": [
    "<img src=\"figs/jremp_timeplot.png\" style=\"max-height: 400; max-width: 600px;\">"
   ]
  },
  {
   "cell_type": "markdown",
   "metadata": {},
   "source": [
    "Back in 2010, there was a roughly 50/50 sex ratio for junior level positions.  However, over the course of the next 5 years, the gap has constantly grown to a <b> 60:40 female:male ratio! </b>\n",
    "\n",
    "Is it because of recruitment or returning employees?"
   ]
  },
  {
   "cell_type": "markdown",
   "metadata": {
    "collapsed": false
   },
   "source": [
    "<img src=\"figs/newreturn_jremp_timeplot.png\" style=\"max-height: 400; max-width: 600px;\">"
   ]
  },
  {
   "cell_type": "markdown",
   "metadata": {},
   "source": [
    "We first notice that there is a strong spike/dip in 2013 likely caused by the 2012 election.  Presumably, the uncertainty of the electoral outcome hindered recruitment of new employees.\n",
    "\n",
    "Ignoring 2013, we observe that men in junior positions have been returning to the White House at a gradually declining rate.  In contrast, since 2011, women have been both returning and entering into junior positions at higher numbers than men.\n",
    "\n",
    "The ratio of new female to male junior employees is not surprising given that the majority of college graduates are currently women.  Yet, <a href=\"http://nbviewer.ipython.org/github/arhee/whitehouse_interns/blob/master/WH_interns.ipynb\">analysis</a> of 3 recent cohorts of White House interns show that the gender ratio of White House interns is 50:50.  In addition, Jay Carney's remarks and the continuous drift of the male:female ratio over 5 years leads one to suspect that deliberate policy may have played a role."
   ]
  },
  {
   "cell_type": "markdown",
   "metadata": {
    "collapsed": true
   },
   "source": [
    "### Conclusions"
   ]
  },
  {
   "cell_type": "markdown",
   "metadata": {},
   "source": [
    "Analysis of the White House employment data reveals an interesting story.  At the junior levels, the data reveal that men fare slightly better in the promotion track. As for the large amount of women in low paying positions, the White House's explanation does hold up; it could be interpreted as a pipeline. By recruiting more female employees, it is possible that more females will end up in senior positions solely due to large numbers. The cause behind the diminishing number of junior male staffers is a mystery, however.\n",
    "\n",
    "These conclusions come with the caveat that the delineation of male and female names was largely automated for the 2009-2014 datasets.  As ambiguous names tend to overcount the number of men (Blair, Taylor, etc..), there is the possibility of overcounting the number of men during those years. \n",
    "\n",
    "Although this analysis sheds light on current trends, there is insufficient evidence to suggest whether the gender disparity is an institutional issue (bias) and/or a choice at the level of the individual (desire).  In addition, given that some of the analysis centered around the '09-'10 cohorts, it can only partially capture any possible new policy changes."
   ]
  }
 ],
 "metadata": {
  "kernelspec": {
   "display_name": "Python 2",
   "language": "python",
   "name": "python2"
  },
  "language_info": {
   "codemirror_mode": {
    "name": "ipython",
    "version": 2
   },
   "file_extension": ".py",
   "mimetype": "text/x-python",
   "name": "python",
   "nbconvert_exporter": "python",
   "pygments_lexer": "ipython2",
   "version": "2.7.9"
  }
 },
 "nbformat": 4,
 "nbformat_minor": 0
}
