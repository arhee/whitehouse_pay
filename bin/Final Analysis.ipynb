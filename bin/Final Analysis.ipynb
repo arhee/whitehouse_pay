{
 "cells": [
  {
   "cell_type": "code",
   "execution_count": 3,
   "metadata": {
    "collapsed": true
   },
   "outputs": [],
   "source": [
    "from ggplot import *\n",
    "import pandas as pd\n",
    "import numpy as np\n",
    "import matplotlib.pyplot as plt\n",
    "from itertools import islice\n",
    "\n",
    "%matplotlib inline"
   ]
  },
  {
   "cell_type": "code",
   "execution_count": 2,
   "metadata": {
    "collapsed": false
   },
   "outputs": [],
   "source": [
    "df_2015 = pd.read_csv('../raw_data/2015_WH_pay_links_merged_edited.csv')\n",
    "df_2015.loc[df_2015.Gender=='?','Gender'] = np.nan\n",
    "df_2015 = df_2015[ pd.notnull(df_2015['Gender']) ]\n",
    "\n",
    "df_long = pd.read_csv('../raw_data/combined_wh_pay.csv')\n",
    "df_long['Name'] = df_long['Name'].str.strip()\n",
    "df_long = df_long[ df_long.Status != \"Employee (part-time)\"]\n",
    "\n",
    "df_long.loc[ df_long.Gender =='?', 'Gender'] = np.nan\n",
    "df_long.loc[ df_long.Salary ==0, 'Gender'] = np.nan\n",
    "df_long = df_long.dropna()"
   ]
  },
  {
   "cell_type": "code",
   "execution_count": 4,
   "metadata": {
    "collapsed": true
   },
   "outputs": [],
   "source": [
    "color_list = [\n",
    "    '#CC6699',\n",
    "    '#008AB8', \n",
    "    '#c760ff', \n",
    "    '#f43605', \n",
    "    '#00FF00',\n",
    "    '#0000FF', \n",
    "    '#4c9085'\n",
    "]"
   ]
  },
  {
   "cell_type": "code",
   "execution_count": 32,
   "metadata": {
    "collapsed": false
   },
   "outputs": [
    {
     "data": {
      "text/plain": [
       "26.052238805970148"
      ]
     },
     "execution_count": 32,
     "metadata": {},
     "output_type": "execute_result"
    }
   ],
   "source": [
    "f = df_2015[ (df_2015.Salary <= 60000) & (df_2015.Est_Age != 'unknown')].Est_Age\n",
    "np.mean(f.astype(int))"
   ]
  },
  {
   "cell_type": "markdown",
   "metadata": {},
   "source": [
    "### Save 2015 WH Data"
   ]
  },
  {
   "cell_type": "code",
   "execution_count": 12,
   "metadata": {
    "collapsed": true
   },
   "outputs": [],
   "source": [
    "dropped_unknown = df_2015[ df_2015.Est_Age != 'unknown']\n",
    "dropped_unknown.to_csv('df2015_forR.csv')"
   ]
  },
  {
   "cell_type": "markdown",
   "metadata": {},
   "source": [
    "### Process the data and generate 6 yr outcome csv"
   ]
  },
  {
   "cell_type": "code",
   "execution_count": 13,
   "metadata": {
    "collapsed": true
   },
   "outputs": [],
   "source": [
    "def find_yrs_served_5yr(x, year):\n",
    "    yr_list = x[ x.Year <= year+5 ].Year\n",
    "    return len(yr_list)\n",
    "\n",
    "def find_max_5yr_salary(x, year):\n",
    "    subdf = x[ x.Year <= year+5 ]\n",
    "    return max(subdf.Salary)\n",
    "\n",
    "def find_yrs_elapsed_5yr(x, year):\n",
    "    subdf = x[ x.Year <= year+5 ]\n",
    "    return max(subdf.Year) - min(subdf.Year)\n",
    "\n",
    "def find_dSalary(x, year):\n",
    "    #Finds the rate increase between the first and last years\n",
    "    \n",
    "    subdf = x[ x.Year <= year+5 ]\n",
    "    minyr = min(subdf.Year)\n",
    "    maxyr = max(subdf.Year)\n",
    "    \n",
    "    dSalary = subdf[ subdf.Year==maxyr ].Salary.values[0] - subdf[ subdf.Year==minyr ].Salary.values[0]\n",
    "    return dSalary/float(maxyr - minyr)\n",
    "    "
   ]
  },
  {
   "cell_type": "code",
   "execution_count": 370,
   "metadata": {
    "collapsed": false
   },
   "outputs": [],
   "source": [
    "#Create data for longitudinal study\n",
    "sal_cutoff = 60000\n",
    "\n",
    "df_list = []\n",
    "\n",
    "for year in range(2009, 2011):\n",
    "    grouped = df_long.groupby(\"Cleaned_Name\")\n",
    "        \n",
    "    # Find individuals that started in that year and salary < cutoff\n",
    "    grouped = grouped.filter( lambda x: min(x.Year) == year ).groupby(\"Cleaned_Name\")\n",
    "    grouped = grouped.filter( lambda x: x[x.Year == year].Salary < sal_cutoff ).groupby('Cleaned_Name')\n",
    "    \n",
    "    max_5yr_salary = grouped.apply( lambda x: find_max_5yr_salary(x, year) )\n",
    "    years_served_5yr = grouped.apply( lambda x: find_yrs_served_5yr(x, year) )\n",
    "    years_elapsed_5yr = grouped.apply(lambda x: find_yrs_elapsed_5yr(x, year) ) + 1\n",
    "    dSalary = grouped.apply(lambda x: find_dSalary(x, year)).fillna(0)\n",
    "    gender = grouped.apply(lambda x: x.Gender.values[0])\n",
    "    \n",
    "    tempdf = pd.concat([max_5yr_salary, dSalary, years_served_5yr, years_elapsed_5yr, gender], axis=1)\n",
    "    df_list.append(tempdf)\n",
    "\n",
    "    \n",
    "newdf = pd.concat(df_list)\n",
    "newdf.columns = ['Y6_Max_Salary', 'Y6_dSalary', 'Y6_Served', 'Y6_Elapsed', 'Gender']\n",
    "newdf.to_csv('../proc_data/six_year_outcomes_60.csv')"
   ]
  },
  {
   "cell_type": "markdown",
   "metadata": {},
   "source": [
    "\n"
   ]
  },
  {
   "cell_type": "markdown",
   "metadata": {},
   "source": [
    "### Table and Figure for salaries"
   ]
  },
  {
   "cell_type": "code",
   "execution_count": 6,
   "metadata": {
    "collapsed": false
   },
   "outputs": [],
   "source": [
    "bins = np.linspace(df_2015.Salary.min(), df_2015.Salary.max(), 20)\n",
    "groups = df_2015.groupby(np.digitize(df_2015.Salary, bins))\n",
    "sex_count = pd.DataFrame(groups['Gender'].value_counts(), columns=['Quantity'])"
   ]
  },
  {
   "cell_type": "code",
   "execution_count": 7,
   "metadata": {
    "collapsed": true
   },
   "outputs": [],
   "source": [
    "newdf = df_2015\n",
    "sal_cutoff = 80000\n",
    "\n",
    "\n",
    "newdf['Salary_Category'] = '$150k+'\n",
    "newdf.loc[ (newdf.Salary > sal_cutoff) & (newdf.Salary<140000), 'Salary_Category'] = '$150 - 80k'\n",
    "newdf.loc[ newdf.Salary < sal_cutoff, 'Salary_Category'] = '0 - $80k'\n",
    "    \n",
    "merged = newdf.groupby(['Salary_Category', 'Gender']).agg([np.mean, np.median, len])\n",
    "merged = merged.sort([('Salary', 'mean')], ascending=False)"
   ]
  },
  {
   "cell_type": "code",
   "execution_count": 1,
   "metadata": {
    "collapsed": false
   },
   "outputs": [
    {
     "ename": "NameError",
     "evalue": "name 'merged' is not defined",
     "output_type": "error",
     "traceback": [
      "\u001b[0;31m---------------------------------------------------------------------------\u001b[0m",
      "\u001b[0;31mNameError\u001b[0m                                 Traceback (most recent call last)",
      "\u001b[0;32m<ipython-input-1-b57fc8c1b364>\u001b[0m in \u001b[0;36m<module>\u001b[0;34m()\u001b[0m\n\u001b[1;32m      2\u001b[0m \u001b[0;32mimport\u001b[0m \u001b[0mre\u001b[0m\u001b[0;34m\u001b[0m\u001b[0m\n\u001b[1;32m      3\u001b[0m \u001b[0;34m\u001b[0m\u001b[0m\n\u001b[0;32m----> 4\u001b[0;31m \u001b[0mmerged\u001b[0m\u001b[0;34m[\u001b[0m\u001b[0;34m'Salary'\u001b[0m\u001b[0;34m,\u001b[0m\u001b[0;34m'mean'\u001b[0m\u001b[0;34m]\u001b[0m \u001b[0;34m=\u001b[0m \u001b[0mmerged\u001b[0m\u001b[0;34m[\u001b[0m\u001b[0;34m'Salary'\u001b[0m\u001b[0;34m,\u001b[0m\u001b[0;34m'mean'\u001b[0m\u001b[0;34m]\u001b[0m\u001b[0;34m.\u001b[0m\u001b[0mastype\u001b[0m\u001b[0;34m(\u001b[0m\u001b[0mint\u001b[0m\u001b[0;34m)\u001b[0m\u001b[0;34m\u001b[0m\u001b[0m\n\u001b[0m\u001b[1;32m      5\u001b[0m \u001b[0mmerged\u001b[0m \u001b[0;34m=\u001b[0m \u001b[0mmerged\u001b[0m\u001b[0;34m.\u001b[0m\u001b[0mrename\u001b[0m\u001b[0;34m(\u001b[0m\u001b[0mcolumns\u001b[0m \u001b[0;34m=\u001b[0m \u001b[0;34m{\u001b[0m\u001b[0;34m'newname'\u001b[0m\u001b[0;34m:\u001b[0m\u001b[0;34m'# of employees'\u001b[0m\u001b[0;34m}\u001b[0m\u001b[0;34m)\u001b[0m\u001b[0;34m\u001b[0m\u001b[0m\n\u001b[1;32m      6\u001b[0m \u001b[0mhtmltxt\u001b[0m \u001b[0;34m=\u001b[0m \u001b[0mmerged\u001b[0m\u001b[0;34m.\u001b[0m\u001b[0mto_html\u001b[0m\u001b[0;34m(\u001b[0m\u001b[0;34m)\u001b[0m\u001b[0;34m\u001b[0m\u001b[0m\n",
      "\u001b[0;31mNameError\u001b[0m: name 'merged' is not defined"
     ]
    }
   ],
   "source": [
    "from IPython.display import display, HTML \n",
    "import re\n",
    "\n",
    "merged['Salary','mean'] = merged['Salary','mean'].astype(int)\n",
    "merged = merged.rename(columns = {'newname':'# of employees'})\n",
    "htmltxt = merged.to_html()\n",
    "htmltxt = re.sub('len', 'n', htmltxt)\n",
    "display(HTML(htmltxt)) "
   ]
  },
  {
   "cell_type": "code",
   "execution_count": 364,
   "metadata": {
    "collapsed": false
   },
   "outputs": [
    {
     "name": "stderr",
     "output_type": "stream",
     "text": [
      "Saving 11.0 x 8.0 in image.\n"
     ]
    }
   ],
   "source": [
    "diffs = [1.110908, 54020/54634., 113359/109885., 155412/154491.]\n",
    "diffs = np.multiply(np.subtract(diffs, 1), 100)\n",
    "category = ['All', '<$80k', '$150-80k', '$150k+']\n",
    "newdf = pd.DataFrame({'Diff':diffs, 'Category':category})\n",
    "\n",
    "lbls = [x + '%' for x in map(str,range(-2,12,2))]\n",
    "\n",
    "p = ggplot(newdf, aes('Category','Diff'))\\\n",
    "+ geom_bar(stat='identity', fill=\"gray\", colour=\"gray\")\\\n",
    "+ scale_y_continuous(breaks=range(-2,12,2), labels=lbls)\\\n",
    "+ ylab(\"Gender Pay Gap\")\\\n",
    "+ xlab(\"Salary Range\")\\\n",
    "+ ggtitle('Gender Pay Gap by Salary Range')\n",
    "\n",
    "\n",
    "ggsave(p, '../figs/percent_difference.png')"
   ]
  },
  {
   "cell_type": "markdown",
   "metadata": {},
   "source": [
    "### What salaries do newcomers make?"
   ]
  },
  {
   "cell_type": "code",
   "execution_count": 34,
   "metadata": {
    "collapsed": false
   },
   "outputs": [],
   "source": [
    "data = []\n",
    "for year in range(2009, 2011):\n",
    "    grouped = df_long.groupby(\"Cleaned_Name\")\n",
    "    grouped = grouped.filter( lambda x: min(x.Year) == year).groupby(\"Cleaned_Name\")\n",
    "    data.append( grouped.apply( lambda x: x[ x.Year == year ].Salary) )\n",
    "new_salaries = reduce(pd.Series.append, data)"
   ]
  },
  {
   "cell_type": "code",
   "execution_count": 35,
   "metadata": {
    "collapsed": false
   },
   "outputs": [
    {
     "data": {
      "image/png": "[encoded data removed]",
      "text/plain": [
       "<matplotlib.figure.Figure at 0x113eac390>"
      ]
     },
     "metadata": {},
     "output_type": "display_data"
    },
    {
     "data": {
      "text/plain": [
       "<ggplot: (289312917)>"
      ]
     },
     "execution_count": 35,
     "metadata": {},
     "output_type": "execute_result"
    }
   ],
   "source": [
    "newdf = new_salaries.to_frame()\n",
    "ggplot(newdf, aes('Salary')) + geom_histogram(binwidth=10000)\\\n",
    "+ geom_vline(xintercept=60000, size=2, color='red')"
   ]
  },
  {
   "cell_type": "markdown",
   "metadata": {},
   "source": [
    "### Save Rentention Data to csv"
   ]
  },
  {
   "cell_type": "code",
   "execution_count": 53,
   "metadata": {
    "collapsed": true
   },
   "outputs": [],
   "source": [
    "sal_cutoff = 60000\n",
    "\n",
    "def get_quit_jr(x, year):\n",
    "    #Is employee not in current year?\n",
    "\n",
    "    if np.any(x.Year.isin([year])):\n",
    "        this_year = True\n",
    "    else:\n",
    "        this_year = False\n",
    "        \n",
    "    jr_before = False\n",
    "    if np.any(x.Year.isin([year-1])):\n",
    "        jr_before = x[x.Year == year-1].Salary < sal_cutoff\n",
    "\n",
    "    return (not this_year) and jr_before\n",
    "\n",
    "#Promoted is defined as anyone promoted that was in a junior position prior\n",
    "def get_promote_jr(x, year):\n",
    "    #Is current year salary < cutoff\n",
    "    this_year = False\n",
    "    if np.any(x.Year.isin([year])):\n",
    "        this_year = x[x.Year == year].Salary >= sal_cutoff \n",
    "        this_year = this_year.values[0]\n",
    "\n",
    "    #Find prior year\n",
    "    yrs = x.Year.values - year\n",
    "    yrs = yrs[yrs<0]\n",
    "    jr_before = False    \n",
    "    if yrs.size > 0:\n",
    "        prior_year = max(yrs) + year\n",
    "        jr_before = x[x.Year == prior_year].Salary < sal_cutoff\n",
    "\n",
    "    return (this_year and jr_before)\n",
    "    \n",
    "#Returning is defined as anyone that is returning to the administration at a junior level    \n",
    "def get_return_jr(x, year):\n",
    "    #Is current year salary < cutoff\n",
    "    this_year = False\n",
    "    if np.any(x.Year.isin([year])):\n",
    "        this_year = x[x.Year == year].Salary < sal_cutoff \n",
    "        this_year = this_year.values[0]\n",
    "\n",
    "    #Find prior year\n",
    "    yrs = x.Year.values - year\n",
    "    yrs = yrs[yrs<0]\n",
    "    jr_before = False    \n",
    "    if yrs.size > 0:\n",
    "        prior_year = max(yrs) + year\n",
    "        jr_before = x[x.Year == prior_year].Salary < sal_cutoff\n",
    "\n",
    "    return (this_year and jr_before)\n",
    "\n",
    "\n",
    "#Returning is defined as anyone that is returning to the administration at any level    \n",
    "def get_return_all(x, year):\n",
    "    #Is current year salary < cutoff\n",
    "    this_year = False\n",
    "    if np.any(x.Year.isin([year])):\n",
    "        this_year = True\n",
    "\n",
    "    #Find prior year\n",
    "    yrs = x.Year.values - year\n",
    "    yrs = yrs[yrs<0]\n",
    "    jr_before = False    \n",
    "    if yrs.size > 0:\n",
    "        prior_year = max(yrs) + year\n",
    "        jr_before = x[x.Year == prior_year].Salary < sal_cutoff\n",
    "\n",
    "    return (this_year and jr_before)\n",
    "\n",
    "\n",
    "\n",
    "def get_total_jr(x, year):\n",
    "    temp = x[x.Year == year].Salary < sal_cutoff\n",
    "    return temp.values[0]\n",
    "\n",
    "def get_new_jr(x, year):\n",
    "    return (min(x.Year) == year) and (x[x.Year == year].Salary < sal_cutoff)\n",
    "\n",
    "def return_df(grouped, year, kind):\n",
    "    genlist = grouped.apply(lambda x: x.Gender.values[0])\n",
    "    genders = genlist.value_counts().index\n",
    "    counts = genlist.value_counts().values\n",
    "    df = pd.DataFrame({'Gender':genders, 'Count':counts, 'Type':[kind]*2, 'Year':[year]*2})\n",
    "    return df\n",
    "    "
   ]
  },
  {
   "cell_type": "code",
   "execution_count": 54,
   "metadata": {
    "collapsed": false
   },
   "outputs": [
    {
     "name": "stdout",
     "output_type": "stream",
     "text": [
      "2010 quit: 51 ret: 125 new: 58 prom: 29 total: 183\n",
      "2011 quit: 74 ret: 86 new: 91 prom: 24 total: 177\n",
      "2012 quit: 60 ret: 96 new: 83 prom: 22 total: 180\n",
      "2013 quit: 42 ret: 127 new: 43 prom: 16 total: 170\n",
      "2014 quit: 60 ret: 97 new: 72 prom: 18 total: 170\n",
      "2015 quit: 54 ret: 91 new: 83 prom: 28 total: 174\n"
     ]
    }
   ],
   "source": [
    "names_grouped = df_long.groupby('Cleaned_Name')\n",
    "yrs_grouped = df_long.groupby('Year')\n",
    "\n",
    "reten_data = pd.DataFrame(columns=['Year','Type','Gender','Count'])\n",
    "\n",
    "for year in range(2010, 2016):\n",
    "    yr_group = yrs_grouped.get_group(year)\n",
    "    jr = yr_group[ yr_group.Salary < sal_cutoff]\n",
    "    fem, male = jr.Gender.value_counts()[:]\n",
    "    tempdf = pd.DataFrame({'Year':[year]*2, 'Type':['Total']*2, 'Gender':['female','male'], 'Count':[fem,male]})\n",
    "    reten_data = reten_data.append(tempdf)\n",
    "\n",
    "    new_jr = names_grouped.filter( lambda x: get_new_jr(x, year) )\n",
    "    new_jr = new_jr.groupby('Cleaned_Name')\n",
    "    reten_data = reten_data.append( return_df(new_jr, year, 'New') )\n",
    "\n",
    "    return_all = names_grouped.filter( lambda x: get_return_all(x,year) ) \n",
    "    return_all = return_all.groupby('Cleaned_Name')\n",
    "    reten_data = reten_data.append( return_df(return_all, year, 'Return_All') )\n",
    "\n",
    "    return_jr = names_grouped.filter( lambda x: get_return_jr(x,year) )\n",
    "    return_jr = return_jr.groupby('Cleaned_Name')\n",
    "    reten_data = reten_data.append( return_df(return_jr, year, 'Returning') )    \n",
    "    \n",
    "    prom_jr = names_grouped.filter( lambda x: get_promote_jr(x,year) )\n",
    "    prom_jr = prom_jr.groupby('Cleaned_Name')\n",
    "    reten_data = reten_data.append( return_df(prom_jr, year, 'Promoted') )    \n",
    "    \n",
    "    quit_jr = names_grouped.filter( lambda x: get_quit_jr(x, year))\n",
    "    quit_jr = quit_jr.groupby('Cleaned_Name')\n",
    "    reten_data = reten_data.append( return_df(quit_jr, year, 'Quit') )    \n",
    "    \n",
    "    print year, 'quit:',len(quit_jr), 'ret:',len(return_jr), 'new:',len(new_jr), 'prom:',len(prom_jr), 'total:', len(jr)"
   ]
  },
  {
   "cell_type": "code",
   "execution_count": 55,
   "metadata": {
    "collapsed": true
   },
   "outputs": [],
   "source": [
    "reten_data.to_csv('../proc_data/reten_data_60.csv')"
   ]
  },
  {
   "cell_type": "code",
   "execution_count": 1,
   "metadata": {
    "collapsed": false
   },
   "outputs": [
    {
     "ename": "NameError",
     "evalue": "name 'reten_data' is not defined",
     "output_type": "error",
     "traceback": [
      "\u001b[0;31m---------------------------------------------------------------------------\u001b[0m",
      "\u001b[0;31mNameError\u001b[0m                                 Traceback (most recent call last)",
      "\u001b[0;32m<ipython-input-1-6cd1da824790>\u001b[0m in \u001b[0;36m<module>\u001b[0;34m()\u001b[0m\n\u001b[0;32m----> 1\u001b[0;31m \u001b[0;32mprint\u001b[0m \u001b[0mreten_data\u001b[0m\u001b[0;34m.\u001b[0m\u001b[0mType\u001b[0m\u001b[0;34m.\u001b[0m\u001b[0mvalue_counts\u001b[0m\u001b[0;34m(\u001b[0m\u001b[0;34m)\u001b[0m\u001b[0;34m\u001b[0m\u001b[0m\n\u001b[0m\u001b[1;32m      2\u001b[0m \u001b[0mggplot\u001b[0m\u001b[0;34m(\u001b[0m\u001b[0mreten_data\u001b[0m\u001b[0;34m[\u001b[0m\u001b[0mreten_data\u001b[0m\u001b[0;34m.\u001b[0m\u001b[0mType\u001b[0m\u001b[0;34m==\u001b[0m\u001b[0;34m'Total'\u001b[0m\u001b[0;34m]\u001b[0m\u001b[0;34m,\u001b[0m \u001b[0maes\u001b[0m\u001b[0;34m(\u001b[0m\u001b[0;34m'Year'\u001b[0m\u001b[0;34m,\u001b[0m\u001b[0;34m'Count'\u001b[0m\u001b[0;34m,\u001b[0m\u001b[0mcolor\u001b[0m\u001b[0;34m=\u001b[0m\u001b[0;34m'Gender'\u001b[0m\u001b[0;34m)\u001b[0m\u001b[0;34m)\u001b[0m\u001b[0;34m+\u001b[0m \u001b[0mgeom_line\u001b[0m\u001b[0;34m(\u001b[0m\u001b[0msize\u001b[0m\u001b[0;34m=\u001b[0m\u001b[0;36m3\u001b[0m\u001b[0;34m)\u001b[0m\u001b[0;34m+\u001b[0m \u001b[0mscale_colour_manual\u001b[0m\u001b[0;34m(\u001b[0m\u001b[0mvalues\u001b[0m\u001b[0;34m=\u001b[0m\u001b[0mcolor_list\u001b[0m\u001b[0;34m)\u001b[0m\u001b[0;34m+\u001b[0m \u001b[0mscale_x_continuous\u001b[0m\u001b[0;34m(\u001b[0m\u001b[0mlimits\u001b[0m \u001b[0;34m=\u001b[0m \u001b[0;34m(\u001b[0m\u001b[0;36m2010\u001b[0m\u001b[0;34m,\u001b[0m\u001b[0;36m2015\u001b[0m\u001b[0;34m)\u001b[0m\u001b[0;34m,\u001b[0m \u001b[0mbreaks\u001b[0m \u001b[0;34m=\u001b[0m \u001b[0mrange\u001b[0m\u001b[0;34m(\u001b[0m\u001b[0;36m2010\u001b[0m\u001b[0;34m,\u001b[0m\u001b[0;36m2016\u001b[0m\u001b[0;34m)\u001b[0m\u001b[0;34m,\u001b[0m \u001b[0mlabels\u001b[0m\u001b[0;34m=\u001b[0m\u001b[0mrange\u001b[0m\u001b[0;34m(\u001b[0m\u001b[0;36m2010\u001b[0m\u001b[0;34m,\u001b[0m\u001b[0;36m2016\u001b[0m\u001b[0;34m)\u001b[0m\u001b[0;34m)\u001b[0m\u001b[0;34m+\u001b[0m \u001b[0mscale_y_continuous\u001b[0m\u001b[0;34m(\u001b[0m\u001b[0mlimits\u001b[0m \u001b[0;34m=\u001b[0m \u001b[0;34m(\u001b[0m\u001b[0;36m50\u001b[0m\u001b[0;34m,\u001b[0m\u001b[0;36m200\u001b[0m\u001b[0;34m)\u001b[0m\u001b[0;34m)\u001b[0m\u001b[0;34m+\u001b[0m \u001b[0mggtitle\u001b[0m\u001b[0;34m(\u001b[0m\u001b[0;34m'Number of Junior Employees'\u001b[0m\u001b[0;34m)\u001b[0m\u001b[0;34m\u001b[0m\u001b[0m\n\u001b[1;32m      3\u001b[0m \u001b[0;34m\u001b[0m\u001b[0m\n\u001b[1;32m      4\u001b[0m \u001b[0;31m#ggsave(p, '../figs/num_jr_emp_fig.png')\u001b[0m\u001b[0;34m\u001b[0m\u001b[0;34m\u001b[0m\u001b[0m\n",
      "\u001b[0;31mNameError\u001b[0m: name 'reten_data' is not defined"
     ]
    }
   ],
   "source": [
    "print reten_data.Type.value_counts()\n",
    "ggplot(reten_data[reten_data.Type=='Total'], aes('Year','Count',color='Gender'))\\\n",
    "+ geom_line(size=3)\\\n",
    "+ scale_colour_manual(values=color_list)\\\n",
    "+ scale_x_continuous(limits = (2010,2015), breaks = range(2010,2016), labels=range(2010,2016))\\\n",
    "+ scale_y_continuous(limits = (50,200))\\\n",
    "+ ggtitle('Number of Junior Employees')\n",
    "\n",
    "#ggsave(p, '../figs/num_jr_emp_fig.png')"
   ]
  },
  {
   "cell_type": "code",
   "execution_count": 52,
   "metadata": {
    "collapsed": false
   },
   "outputs": [
    {
     "name": "stdout",
     "output_type": "stream",
     "text": [
      "Counter({'female': 32, 'male': 13})\n",
      "Counter({'male': 8, 'female': 7})\n"
     ]
    }
   ],
   "source": [
    "#Find all people by gender that had salary < X and served only one year\n",
    "# year by year.\n",
    "from collections import Counter\n",
    "\n",
    "s = [] \n",
    "grouped = df_long.groupby('Cleaned_Name')\n",
    "for year in range(2009,2011):\n",
    "    p = grouped.filter(lambda x: (len(x)==1) and (x.Year.values[0]==year) and (x.Salary.values[0]<60000))\n",
    "    f = Counter(p.Gender.get_values())\n",
    "    print f\n",
    "    s.append(f.values())"
   ]
  },
  {
   "cell_type": "code",
   "execution_count": 39,
   "metadata": {
    "collapsed": false
   },
   "outputs": [],
   "source": [
    "s[4] = [0,4]"
   ]
  },
  {
   "cell_type": "code",
   "execution_count": 40,
   "metadata": {
    "collapsed": false
   },
   "outputs": [
    {
     "data": {
      "text/plain": [
       "[[13, 32], [8, 7], [6, 15], [8, 9], [0, 4], [10, 15], [34, 49]]"
      ]
     },
     "execution_count": 40,
     "metadata": {},
     "output_type": "execute_result"
    }
   ],
   "source": [
    "s"
   ]
  },
  {
   "cell_type": "code",
   "execution_count": 50,
   "metadata": {
    "collapsed": false
   },
   "outputs": [
    {
     "name": "stdout",
     "output_type": "stream",
     "text": [
      "79 131\n"
     ]
    }
   ],
   "source": [
    "f = sum([ x[1] for x in s])\n",
    "m = sum([ x[0] for x in s])\n",
    "print m, f"
   ]
  },
  {
   "cell_type": "code",
   "execution_count": null,
   "metadata": {
    "collapsed": true
   },
   "outputs": [],
   "source": []
  }
 ],
 "metadata": {
  "kernelspec": {
   "display_name": "Python 2",
   "language": "python",
   "name": "python2"
  },
  "language_info": {
   "codemirror_mode": {
    "name": "ipython",
    "version": 2
   },
   "file_extension": ".py",
   "mimetype": "text/x-python",
   "name": "python",
   "nbconvert_exporter": "python",
   "pygments_lexer": "ipython2",
   "version": "2.7.9"
  }
 },
 "nbformat": 4,
 "nbformat_minor": 0
}
